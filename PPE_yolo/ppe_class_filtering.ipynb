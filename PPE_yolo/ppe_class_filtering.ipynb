{
 "cells": [
  {
   "cell_type": "code",
   "execution_count": null,
   "id": "0",
   "metadata": {},
   "outputs": [],
   "source": [
    "%pip install ultralytics pyyaml -q"
   ]
  },
  {
   "cell_type": "code",
   "execution_count": null,
   "id": "1",
   "metadata": {},
   "outputs": [],
   "source": [
    "import os\n",
    "import shutil\n",
    "import yaml\n",
    "from ultralytics import YOLO\n"
   ]
  },
  {
   "cell_type": "code",
   "execution_count": null,
   "id": "2",
   "metadata": {},
   "outputs": [],
   "source": [
    "# 원본 데이터셋 경로 (data.yaml이 있는 폴더)\n",
    "original_dataset = './PPE-1'\n",
    "\n",
    "# 필터링된 데이터셋 저장 경로\n",
    "filtered_dataset = './ppe_filtered'\n",
    "\n",
    "# 원하는 클래스 ID: 0=Hardhat, 2=Safety_Boots, 3=Safety_Gloves\n",
    "wanted_classes = [0, 2, 3]\n"
   ]
  },
  {
   "cell_type": "code",
   "execution_count": null,
   "id": "3",
   "metadata": {},
   "outputs": [],
   "source": [
    "def filter_yolo_labels(original_label_path, output_label_path, wanted_class_ids):\n",
    "    with open(original_label_path, 'r') as f:\n",
    "        lines = f.readlines()\n",
    "    \n",
    "    filtered_lines = [line for line in lines if int(line.split()[0]) in wanted_class_ids]\n",
    "    \n",
    "    if filtered_lines:\n",
    "        with open(output_label_path, 'w') as f:\n",
    "            f.writelines(filtered_lines)\n",
    "        return True\n",
    "    return False\n",
    "\n",
    "def filter_yolo_dataset(original_path, output_path, wanted_ids):\n",
    "    for split in ['train', 'valid', 'test']:\n",
    "        img_dir = os.path.join(original_path, split, 'images')\n",
    "        lbl_dir = os.path.join(original_path, split, 'labels')\n",
    "        \n",
    "        if not os.path.exists(img_dir):\n",
    "            continue\n",
    "        \n",
    "        out_img_dir = os.path.join(output_path, split, 'images')\n",
    "        out_lbl_dir = os.path.join(output_path, split, 'labels')\n",
    "        os.makedirs(out_img_dir, exist_ok=True)\n",
    "        os.makedirs(out_lbl_dir, exist_ok=True)\n",
    "        \n",
    "        count = 0\n",
    "        for lbl_file in os.listdir(lbl_dir):\n",
    "            if not lbl_file.endswith('.txt'):\n",
    "                continue\n",
    "            \n",
    "            orig_lbl = os.path.join(lbl_dir, lbl_file)\n",
    "            out_lbl = os.path.join(out_lbl_dir, lbl_file)\n",
    "            \n",
    "            if filter_yolo_labels(orig_lbl, out_lbl, wanted_ids):\n",
    "                img_name = os.path.splitext(lbl_file)[0]\n",
    "                for ext in ['.jpg', '.jpeg', '.png', '.JPG']:\n",
    "                    img_file = img_name + ext\n",
    "                    orig_img = os.path.join(img_dir, img_file)\n",
    "                    if os.path.exists(orig_img):\n",
    "                        shutil.copy2(orig_img, os.path.join(out_img_dir, img_file))\n",
    "                        count += 1\n",
    "                        break\n",
    "        \n",
    "        print(f'[{split}] {count}개 이미지-라벨 쌍 복사 완료')\n"
   ]
  },
  {
   "cell_type": "code",
   "execution_count": null,
   "id": "4",
   "metadata": {},
   "outputs": [],
   "source": [
    "def update_class_ids(dataset_path, old_to_new):\n",
    "    for split in ['train', 'valid', 'test']:\n",
    "        lbl_dir = os.path.join(dataset_path, split, 'labels')\n",
    "        if not os.path.exists(lbl_dir):\n",
    "            continue\n",
    "        \n",
    "        for lbl_file in os.listdir(lbl_dir):\n",
    "            if not lbl_file.endswith('.txt'):\n",
    "                continue\n",
    "            \n",
    "            lbl_path = os.path.join(lbl_dir, lbl_file)\n",
    "            with open(lbl_path, 'r') as f:\n",
    "                lines = f.readlines()\n",
    "            \n",
    "            updated = []\n",
    "            for line in lines:\n",
    "                parts = line.split()\n",
    "                parts[0] = str(old_to_new[int(parts[0])])\n",
    "                updated.append(' '.join(parts) + '\\n')\n",
    "            \n",
    "            with open(lbl_path, 'w') as f:\n",
    "                f.writelines(updated)\n",
    "    \n",
    "    print('클래스 ID 재조정 완료')\n"
   ]
  },
  {
   "cell_type": "code",
   "execution_count": null,
   "id": "5",
   "metadata": {},
   "outputs": [],
   "source": [
    "def create_yaml(orig_yaml, out_yaml, wanted_ids, out_path):\n",
    "    with open(orig_yaml, 'r', encoding='utf-8') as f:\n",
    "        data = yaml.safe_load(f)\n",
    "    \n",
    "    orig_names = data['names']\n",
    "    new_names = []\n",
    "    old_to_new = {}\n",
    "    \n",
    "    for new_id, old_id in enumerate(wanted_ids):\n",
    "        new_names.append(orig_names[old_id])\n",
    "        old_to_new[old_id] = new_id\n",
    "    \n",
    "    new_data = {\n",
    "        'path': out_path,\n",
    "        'train': 'train/images',\n",
    "        'val': 'valid/images',\n",
    "        'test': 'test/images',\n",
    "        'names': new_names,\n",
    "        'nc': len(new_names)\n",
    "    }\n",
    "    \n",
    "    with open(out_yaml, 'w', encoding='utf-8') as f:\n",
    "        yaml.dump(new_data, f, default_flow_style=False, allow_unicode=True)\n",
    "    \n",
    "    print(f'새 data.yaml 생성: {new_names}')\n",
    "    return old_to_new\n"
   ]
  },
  {
   "cell_type": "code",
   "execution_count": null,
   "id": "6",
   "metadata": {},
   "outputs": [],
   "source": [
    "print('=== 데이터 필터링 시작 ===')\n",
    "filter_yolo_dataset(original_dataset, filtered_dataset, wanted_classes)\n",
    "\n",
    "orig_yaml = os.path.join(original_dataset, 'data.yaml')\n",
    "new_yaml = os.path.join(filtered_dataset, 'data.yaml')\n",
    "\n",
    "mapping = create_yaml(orig_yaml, new_yaml, wanted_classes, filtered_dataset)\n",
    "update_class_ids(filtered_dataset, mapping)\n",
    "print('=== 필터링 완료 ===\\n')\n"
   ]
  },
  {
   "cell_type": "code",
   "execution_count": null,
   "id": "7",
   "metadata": {},
   "outputs": [],
   "source": [
    "model = YOLO('yolov11n.pt')\n",
    "\n",
    "results = model.train(\n",
    "    data=new_yaml,\n",
    "    epochs=100,\n",
    "    imgsz=640,\n",
    "    batch=16,\n",
    "    workers=2,\n",
    "    name='ppe_detection',\n",
    "    patience=10,\n",
    "    save=True,\n",
    "    plots=True\n",
    ")\n"
   ]
  },
  {
   "cell_type": "code",
   "execution_count": null,
   "id": "8",
   "metadata": {},
   "outputs": [],
   "source": [
    "from IPython.display import Image, display\n",
    "\n",
    "display(Image(filename='runs/detect/ppe_detection/results.png'))\n",
    "display(Image(filename='runs/detect/ppe_detection/confusion_matrix.png'))\n"
   ]
  },
  {
   "cell_type": "code",
   "execution_count": null,
   "id": "9",
   "metadata": {},
   "outputs": [],
   "source": [
    "model = YOLO('runs/detect/ppe_detection2/weights/best.pt')\n",
    "\n",
    "metrics = model.val(data=new_yaml)\n",
    "\n",
    "print(f'mAP50: {metrics.box.map50:.3f}')\n",
    "print(f'mAP50-95: {metrics.box.map:.3f}')\n"
   ]
  },
  {
   "cell_type": "code",
   "execution_count": null,
   "id": "10",
   "metadata": {
    "jupyter": {
     "outputs_hidden": true
    }
   },
   "outputs": [],
   "source": [
    "test_img_dir = os.path.join(filtered_dataset, 'test/images')\n",
    "\n",
    "results = model.predict(\n",
    "    source=test_img_dir,\n",
    "    save=True,\n",
    "    conf=0.25,\n",
    "    project='runs/detect',\n",
    "    name='test_results',\n",
    "    exist_ok=True\n",
    ")\n",
    "\n",
    "print(f'테스트 결과 저장 위치: runs/detect/test_results')\n"
   ]
  },
  {
   "cell_type": "code",
   "execution_count": null,
   "id": "11",
   "metadata": {},
   "outputs": [],
   "source": [
    "import glob\n",
    "\n",
    "test_images = glob.glob(os.path.join(test_img_dir, '*.jpg'))[:3]\n",
    "\n",
    "for img_path in test_images:\n",
    "    results = model(img_path)\n",
    "    results[0].plot()\n",
    "    results[0].show()\n"
   ]
  },
  {
   "cell_type": "code",
   "execution_count": null,
   "id": "12",
   "metadata": {},
   "outputs": [],
   "source": [
    "shutil.copy('runs/detect/ppe_detection2/weights/best.pt', './ppe_best_model.pt')\n",
    "print('모델이 ./ppe_best_model.pt로 저장되었습니다')\n"
   ]
  },
  {
   "cell_type": "code",
   "execution_count": null,
   "id": "13",
   "metadata": {},
   "outputs": [],
   "source": []
  }
 ],
 "metadata": {
  "kernelspec": {
   "display_name": "cuda128_env",
   "language": "python",
   "name": "python3"
  },
  "language_info": {
   "codemirror_mode": {
    "name": "ipython",
    "version": 3
   },
   "file_extension": ".py",
   "mimetype": "text/x-python",
   "name": "python",
   "nbconvert_exporter": "python",
   "pygments_lexer": "ipython3",
   "version": "3.11.13"
  }
 },
 "nbformat": 4,
 "nbformat_minor": 5
}
