{
 "cells": [
  {
   "cell_type": "markdown",
   "id": "0",
   "metadata": {},
   "source": [
    "# 데이터 불러오기"
   ]
  },
  {
   "cell_type": "code",
   "execution_count": null,
   "id": "1",
   "metadata": {},
   "outputs": [],
   "source": [
    "import os\n",
    "import shutil\n",
    "import yaml\n",
    "from ultralytics import YOLO\n"
   ]
  },
  {
   "cell_type": "code",
   "execution_count": null,
   "id": "2",
   "metadata": {},
   "outputs": [],
   "source": [
    "# PPE-1 데이터셋 저장 경로\n",
    "ppe1_dataset = './filtered_PPE-1'\n",
    "ppe1_yaml = os.path.join(ppe1_dataset, 'data.yaml')\n",
    "\n",
    "# PPE-2 데이터셋 저장 경로\n",
    "ppe2_dataset = './filtered_PPE-2'\n",
    "ppe2_yaml = os.path.join(ppe2_dataset, 'data.yaml')"
   ]
  },
  {
   "cell_type": "markdown",
   "id": "3",
   "metadata": {},
   "source": [
    "# 모델 학습"
   ]
  },
  {
   "cell_type": "markdown",
   "id": "4",
   "metadata": {},
   "source": [
    "## PPE-1 데이터셋만 학습"
   ]
  },
  {
   "cell_type": "code",
   "execution_count": null,
   "id": "5",
   "metadata": {},
   "outputs": [],
   "source": [
    "model = YOLO('yolo11n.pt') # v8 사용하고 싶다면 yolov8n.pt로 작성\n",
    "\n",
    "results = model.train(\n",
    "    data=ppe1_yaml,\n",
    "    epochs=100,\n",
    "    imgsz=640,\n",
    "    batch=16, # 본인 gpu 성능에 맞게 수정 (작으면 정밀하지만 느리게 학습 / 크면 반대)\n",
    "    workers=2, # 본인 cpu 코어 맞게 수정\n",
    "    name='ppe1_detection',\n",
    "    patience=10, # 10번 학습할 동안 성능 개선 없으면 학습 종료\n",
    "    save=True, # 모델 가중치 자동 저장 best.pt, last.pt\n",
    "    plots=True # 학습 분석 가능한 다양한 그래프 생성 (loss curves 등)\n",
    ")\n"
   ]
  },
  {
   "cell_type": "markdown",
   "id": "6",
   "metadata": {},
   "source": [
    "## PPE-2 데이터셋 추가 학습"
   ]
  },
  {
   "cell_type": "code",
   "execution_count": null,
   "id": "7",
   "metadata": {},
   "outputs": [],
   "source": [
    "model = YOLO('./runs/detect/ppe1_detection/weights/best.pt')\n",
    "\n",
    "results = model.train(\n",
    "    data=ppe2_yaml,\n",
    "    epochs=100,\n",
    "    imgsz=640,\n",
    "    batch=16, # 본인 gpu 성능에 맞게 수정 (작으면 정밀하지만 느리게 학습 / 크면 반대)\n",
    "    workers=2, # 본인 cpu 코어 맞게 수정\n",
    "    name='ppe1_2_detection',\n",
    "    patience=30, # 10번 학습할 동안 성능 개선 없으면 학습 종료\n",
    "    save=True, # 모델 가중치 자동 저장 best.pt, last.pt\n",
    "    plots=True # 학습 분석 가능한 다양한 그래프 생성 (loss curves 등)\n",
    ")\n"
   ]
  },
  {
   "cell_type": "markdown",
   "id": "8",
   "metadata": {},
   "source": [
    "# 모델 성능 평가"
   ]
  },
  {
   "cell_type": "code",
   "execution_count": null,
   "id": "9",
   "metadata": {},
   "outputs": [],
   "source": [
    "import pandas as pd\n",
    "\n",
    "df = pd.read_csv('runs/detect/ppe1_2_detection/results.csv') # 보고싶은 모델 results.csv 경로로 지정\n",
    "df.tail(1)  # 마지막 행 전체 보기\n"
   ]
  },
  {
   "cell_type": "markdown",
   "id": "10",
   "metadata": {},
   "source": [
    "# 테스트"
   ]
  },
  {
   "cell_type": "code",
   "execution_count": null,
   "id": "11",
   "metadata": {},
   "outputs": [],
   "source": [
    "test_img_dir ='final_dataset/test/images'\n",
    "model = YOLO('./runs/detect/ppe1_detection/weights/best.pt')\n",
    "\n",
    "results = model.predict(\n",
    "    source=test_img_dir,\n",
    "    save=True, # 결과 자동 저장\n",
    "    conf=0.25, # 정확도 25% 넘으면 다 검출\n",
    "    project='runs/detect', # 결과 저장할 경로\n",
    "    name='ppe1_test', # 이름은 맘대로 지정\n",
    "    exist_ok=False # True : 같은 이름의 폴더가 이미 존재하면 덮어쓰기 False : 같은 이름 있으면 뒷번호로 새로 만들기\n",
    ")\n"
   ]
  },
  {
   "cell_type": "code",
   "execution_count": null,
   "id": "12",
   "metadata": {},
   "outputs": [],
   "source": [
    "%matplotlib inline\n",
    "import glob\n",
    "import matplotlib.pyplot as plt\n",
    "from PIL import Image\n",
    "result_img_dir = 'runs/detect/ppe1_test' # 보고 싶은 결과 경로 맞는지 확인하기\n",
    "\n",
    "# 테스트 이미지 불러오기\n",
    "test_images = glob.glob(os.path.join(result_img_dir, '*.jpg'))[220:] # 몇 개 불러올 건지 결정\n",
    "\n",
    "# 그리드 설정\n",
    "n_cols = 4 # 행 개수 지정\n",
    "n_rows = (len(test_images) + n_cols - 1) // n_cols # 열 자동 설정\n",
    "\n",
    "# Figure 생성\n",
    "fig, axes = plt.subplots(n_rows, n_cols, figsize=(16, 4 * n_rows))\n",
    "axes = axes.flatten()\n",
    "\n",
    "# 표시\n",
    "for idx, img_path in enumerate(test_images):\n",
    "    img = Image.open(img_path)\n",
    "    axes[idx].imshow(img)\n",
    "    axes[idx].axis('off')\n",
    "\n",
    "# 빈 칸 제거\n",
    "for idx in range(len(test_images), len(axes)):\n",
    "    axes[idx].axis('off')\n",
    "\n",
    "plt.tight_layout()\n",
    "plt.show()\n"
   ]
  }
 ],
 "metadata": {
  "kernelspec": {
   "display_name": "cuda128_env",
   "language": "python",
   "name": "python3"
  },
  "language_info": {
   "codemirror_mode": {
    "name": "ipython",
    "version": 3
   },
   "file_extension": ".py",
   "mimetype": "text/x-python",
   "name": "python",
   "nbconvert_exporter": "python",
   "pygments_lexer": "ipython3",
   "version": "3.11.13"
  }
 },
 "nbformat": 4,
 "nbformat_minor": 5
}
