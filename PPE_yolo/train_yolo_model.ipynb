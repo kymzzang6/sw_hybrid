{
 "cells": [
  {
   "cell_type": "markdown",
   "id": "decd99b0",
   "metadata": {},
   "source": [
    "# 데이터 불러오기"
   ]
  },
  {
   "cell_type": "code",
   "execution_count": null,
   "id": "d7a76b43",
   "metadata": {},
   "outputs": [],
   "source": [
    "import os\n",
    "import shutil\n",
    "import yaml\n",
    "from ultralytics import YOLO\n"
   ]
  },
  {
   "cell_type": "code",
   "execution_count": null,
   "id": "03750496",
   "metadata": {},
   "outputs": [],
   "source": [
    "# 필터링된 데이터셋 저장 경로\n",
    "filtered_dataset = './ppe_filtered'\n",
    "new_yaml = os.path.join(filtered_dataset, 'data.yaml')"
   ]
  },
  {
   "cell_type": "markdown",
   "id": "96e764cb",
   "metadata": {},
   "source": [
    "# 모델 학습"
   ]
  },
  {
   "cell_type": "code",
   "execution_count": null,
   "id": "f5a9ca47",
   "metadata": {},
   "outputs": [],
   "source": [
    "\n",
    "model = YOLO('yolov11n.pt')\n",
    "\n",
    "results = model.train(\n",
    "    data=new_yaml,\n",
    "    epochs=100,\n",
    "    imgsz=640,\n",
    "    batch=16,\n",
    "    workers=2,\n",
    "    name='ppe_detection',\n",
    "    patience=10,\n",
    "    save=True,\n",
    "    plots=True\n",
    ")\n"
   ]
  },
  {
   "cell_type": "markdown",
   "id": "112c1950",
   "metadata": {},
   "source": [
    "# 모델 성능 평가"
   ]
  },
  {
   "cell_type": "code",
   "execution_count": null,
   "id": "31a4855b",
   "metadata": {},
   "outputs": [],
   "source": [
    "model = YOLO('runs/detect/ppe_detection2/weights/best.pt')\n",
    "\n",
    "metrics = model.val(data=new_yaml)\n",
    "\n",
    "print(f'mAP50: {metrics.box.map50:.3f}')\n",
    "print(f'mAP50-95: {metrics.box.map:.3f}')\n"
   ]
  },
  {
   "cell_type": "markdown",
   "id": "8bb8ecb1",
   "metadata": {},
   "source": [
    "# 테스트"
   ]
  },
  {
   "cell_type": "code",
   "execution_count": null,
   "id": "12ccbfe7",
   "metadata": {},
   "outputs": [],
   "source": [
    "test_img_dir = os.path.join(filtered_dataset, 'test/images')\n",
    "\n",
    "results = model.predict(\n",
    "    source=test_img_dir,\n",
    "    save=True,\n",
    "    conf=0.25,\n",
    "    project='runs/detect',\n",
    "    name='test_results',\n",
    "    exist_ok=True\n",
    ")\n",
    "\n",
    "print(f'테스트 결과 저장 위치: runs/detect/test_results')\n"
   ]
  },
  {
   "cell_type": "code",
   "execution_count": null,
   "id": "5696ba08",
   "metadata": {},
   "outputs": [],
   "source": [
    "import glob\n",
    "import matplotlib.pyplot as plt\n",
    "\n",
    "# 테스트 이미지 불러오기\n",
    "test_images = glob.glob(os.path.join(test_img_dir, '*.jpg'))[:12]\n",
    "\n",
    "# 그리드 설정\n",
    "n_cols = 4\n",
    "n_rows = (len(test_images) + n_cols - 1) // n_cols\n",
    "\n",
    "# Figure 생성\n",
    "fig, axes = plt.subplots(n_rows, n_cols, figsize=(16, 4 * n_rows))\n",
    "axes = axes.flatten()\n",
    "\n",
    "# 예측 및 표시\n",
    "for idx, img_path in enumerate(test_images):\n",
    "    results = model(img_path)\n",
    "    img_rgb = results[0].plot()[:, :, ::-1]  # BGR -> RGB\n",
    "    \n",
    "    axes[idx].imshow(img_rgb)\n",
    "    axes[idx].axis('off')\n",
    "\n",
    "# 빈 칸 제거\n",
    "for idx in range(len(test_images), len(axes)):\n",
    "    axes[idx].axis('off')\n",
    "\n",
    "plt.tight_layout()\n",
    "plt.show()\n"
   ]
  }
 ],
 "metadata": {
  "language_info": {
   "name": "python"
  }
 },
 "nbformat": 4,
 "nbformat_minor": 5
}
